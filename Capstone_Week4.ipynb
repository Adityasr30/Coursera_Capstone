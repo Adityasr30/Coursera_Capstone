{
 "cells": [
  {
   "cell_type": "markdown",
   "id": "worth-foster",
   "metadata": {},
   "source": [
    "# Capstone Project - The Battle of Neighborhoods (Week 1)"
   ]
  },
  {
   "cell_type": "markdown",
   "id": "hourly-steam",
   "metadata": {},
   "source": [
    "### 1. A description of the problem and a discussion of the background. "
   ]
  },
  {
   "cell_type": "markdown",
   "id": "statistical-romania",
   "metadata": {},
   "source": [
    "<b>Business Problem:</b> To recommend the best neighbourhoods to someone who wants to open a restaurant in the city of Mumbai.\n",
    "\n",
    "<b>Discussion of the background:</b> \n",
    "The restaurant industry in India has been growing at a rapid pace over the last decade or so and the growth story is set to continue for the next foreseeable future. There were nearly 22 lakh hotel and restaurant establishments in India in 2002. The food service or restaurant industry was worth a whopping Rs. 43,000 crores in 2010 and growing at a healthy rate of 15-20 percent annually. Restaurants and other food-service providers are so widespread that half of all adults have worked in food service in one way or another at some point in their lives. The food service industry encompasses any establishment that serves food to people outside their home. This includes restaurants, carryout operations, cafeterias, university dining halls, catering and vending companies, hotels and inns, and rehab and retirement centers. This means the demand for restaurants is only going to grow further and more people would want to get their legs in the game.\n",
    "\n",
    "* How should a new business person decide where to open a restaurant?\n",
    "* What factors should he look at before investing?\n",
    "* Which neighborhood venues affect a user’s rating for location of restaurant?\n",
    "\n",
    "For this project I have chosen the city 'Mumbai'\\\n",
    "Mumbai, also known as Bombay is a city and capital of Maharashtra state located in southwestern India. It is the country’s financial and commercial centre and its principal port on the Arabian Sea. Located on Maharashtra’s coast, Mumbai is India’s most-populous city, and it is one of the largest and most densely populated urban areas in the world."
   ]
  },
  {
   "cell_type": "markdown",
   "id": "ruled-gossip",
   "metadata": {},
   "source": [
    "### 2. A description of the data and how it will be used to solve the problem. "
   ]
  },
  {
   "cell_type": "markdown",
   "id": "rising-operator",
   "metadata": {},
   "source": [
    "Following are the datasets used in the project:\n",
    "1. Data that contains list of districts along wiht there latitude and longitude: \\\n",
    "   Data source: https://en.wikipedia.org/wiki/List_of_neighbourhoods_in_Mumbai \n",
    "2. Restaurants in each neighbourhood of Mumbai: \\\n",
    "   Data source: Foresquare API\n",
    "   Description: By using this API, we will get all the venues in each neighbourhood. "
   ]
  }
 ],
 "metadata": {
  "kernelspec": {
   "display_name": "Python 3",
   "language": "python",
   "name": "python3"
  },
  "language_info": {
   "codemirror_mode": {
    "name": "ipython",
    "version": 3
   },
   "file_extension": ".py",
   "mimetype": "text/x-python",
   "name": "python",
   "nbconvert_exporter": "python",
   "pygments_lexer": "ipython3",
   "version": "3.8.3"
  }
 },
 "nbformat": 4,
 "nbformat_minor": 5
}
